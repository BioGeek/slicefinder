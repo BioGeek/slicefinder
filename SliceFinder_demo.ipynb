{
 "cells": [
  {
   "cell_type": "markdown",
   "metadata": {},
   "source": [
    "# SliceFinder Demo"
   ]
  },
  {
   "cell_type": "code",
   "execution_count": null,
   "metadata": {},
   "outputs": [],
   "source": [
    "import pandas as pd\n",
    "import numpy as np\n",
    "import pickle\n",
    "from sklearn.preprocessing import StandardScaler, LabelEncoder\n",
    "from sklearn.linear_model import LogisticRegression\n",
    "from slice_finder import SliceFinder\n",
    "\n",
    "from ipywidgets import interact, interactive\n",
    "from IPython.display import display\n",
    "\n",
    "from bokeh.layouts import widgetbox, row\n",
    "from bokeh.models import ColumnDataSource\n",
    "from bokeh.models import HoverTool\n",
    "from bokeh.models.widgets import DataTable, TableColumn  \n",
    "from bokeh.io import push_notebook, show, output_notebook\n",
    "from bokeh.plotting import figure\n",
    "output_notebook()"
   ]
  },
  {
   "cell_type": "markdown",
   "metadata": {},
   "source": [
    "## Toy Example: UCI Census Data Set\n",
    "For the demo, we use UCI Census data set and the classification task is to predict who makes above 50k a year."
   ]
  },
  {
   "cell_type": "code",
   "execution_count": 10,
   "metadata": {},
   "outputs": [],
   "source": [
    "adult_data = pd.read_csv(\n",
    "    \"data/adult.data\",\n",
    "    names=[\n",
    "        \"Age\", \"Workclass\", \"fnlwgt\", \"Education\", \"Education-Num\", \"Martial Status\",\n",
    "        \"Occupation\", \"Relationship\", \"Race\", \"Sex\", \"Capital Gain\", \"Capital Loss\",\n",
    "        \"Hours per week\", \"Country\", \"Target\"],\n",
    "        sep=r'\\s*,\\s*',\n",
    "        engine='python',\n",
    "        na_values=\"?\")\n",
    "\n",
    "# drop nan values\n",
    "adult_data = adult_data.dropna()\n",
    "\n",
    "# Encode categorical features\n",
    "encoders = {}\n",
    "for column in adult_data.columns:\n",
    "    if adult_data.dtypes[column] == np.object:\n",
    "        le = LabelEncoder()\n",
    "        adult_data[column] = le.fit_transform(adult_data[column])\n",
    "        encoders[column] = le\n",
    "        #print(column, le.classes_, le.transform(le.classes_))\n",
    "\n",
    "X, y = adult_data[adult_data.columns.difference([\"Target\"])], adult_data[\"Target\"]\n",
    "\n",
    "# Train a model\n",
    "lr = LogisticRegression()\n",
    "lr.fit(X, y)\n",
    "\n",
    "sf = SliceFinder(lr, (X, y))\n",
    "metrics_all = sf.evaluate_model((X,y))\n",
    "reference = (np.mean(metrics_all), np.std(metrics_all), len(metrics_all))"
   ]
  },
  {
   "cell_type": "markdown",
   "metadata": {},
   "source": [
    "## SliceFinder Recommendation Example"
   ]
  },
  {
   "cell_type": "code",
   "execution_count": 8,
   "metadata": {},
   "outputs": [
    {
     "name": "stderr",
     "output_type": "stream",
     "text": [
      "/Users/yeounoh/git/slicefinder/risk_control.py:26: RuntimeWarning: divide by zero encountered in double_scalars\n",
      "  sample_b_mean = (mu*n - np.sum(sample_a))/(n-len(sample_a))\n",
      "/Users/yeounoh/git/slicefinder/risk_control.py:27: RuntimeWarning: divide by zero encountered in double_scalars\n",
      "  sample_b_var = (s**2*(n-1) - np.std(sample_a)**2*(len(sample_a)-1))/(n-len(sample_a)-1)\n",
      "/Users/yeounoh/git/slicefinder/risk_control.py:14: RuntimeWarning: divide by zero encountered in double_scalars\n",
      "  sample_b_mean = (mu*n - np.sum(sample_a))/(n-len(sample_a))\n",
      "/Users/yeounoh/git/slicefinder/risk_control.py:18: RuntimeWarning: invalid value encountered in double_scalars\n",
      "  t /= math.sqrt( np.var(sample_a)/len(sample_a) + sample_b_var/(n-len(sample_a)) )\n",
      "/Users/yeounoh/git/slicefinder/risk_control.py:15: RuntimeWarning: divide by zero encountered in double_scalars\n",
      "  sample_b_var = (s**2*(n-1) - np.std(sample_a)**2*(len(sample_a)-1))/(n-len(sample_a)-1)\n"
     ]
    },
    {
     "name": "stdout",
     "output_type": "stream",
     "text": [
      "\n",
      "=====================\n",
      "Slice description:\n",
      "Sex:Male \n",
      "---------------------\n",
      "effect_size: 0.354867918492\n",
      "size: 20380\n",
      "\n",
      "=====================\n",
      "Slice description:\n",
      "Martial Status:Married-civ-spouse Married-AF-spouse \n",
      "---------------------\n",
      "effect_size: 0.74539699662\n",
      "size: 14086\n",
      "\n",
      "=====================\n",
      "Slice description:\n",
      "Relationship:Husband Wife \n",
      "---------------------\n",
      "effect_size: 0.74045503778\n",
      "size: 13869\n",
      "\n",
      "=====================\n",
      "Slice description:\n",
      "Occupation:Exec-managerial Prof-specialty \n",
      "---------------------\n",
      "effect_size: 0.406698246447\n",
      "size: 8030\n",
      "\n",
      "=====================\n",
      "Slice description:\n",
      "Education:Doctorate Masters Prof-school Bachelors \n",
      "---------------------\n",
      "effect_size: 0.43200932522\n",
      "size: 7588\n"
     ]
    }
   ],
   "source": [
    "\n",
    "recommendations = sf.find_slice(k=5, epsilon=0.3, degree=3)\n",
    "\n",
    "for s in recommendations:\n",
    "    print ('\\n=====================\\nSlice description:')\n",
    "    for k, v in list(s.filters.items()):\n",
    "        values = ''\n",
    "        if k in encoders:\n",
    "            le = encoders[k]\n",
    "            for v_ in v:\n",
    "                values += '%s '%(le.inverse_transform(v_)[0])\n",
    "        else:\n",
    "            for v_ in sorted(v, key=lambda x: x[0]):\n",
    "                if len(v_) > 1:\n",
    "                    values += '%s ~ %s'%(v_[0], v_[1])\n",
    "                else:\n",
    "                    values += '%s '%(v_[0])\n",
    "        print ('%s:%s'%(k, values))\n",
    "    print ('---------------------\\neffect_size: %s'%(s.effect_size))\n",
    "    print ('size: %s'%(s.size))"
   ]
  },
  {
   "cell_type": "markdown",
   "metadata": {},
   "source": [
    "## SliceFinder User Interface with Minimum Effect Size Slider"
   ]
  },
  {
   "cell_type": "code",
   "execution_count": 15,
   "metadata": {
    "scrolled": false
   },
   "outputs": [
    {
     "data": {
      "text/html": [
       "\n",
       "<div class=\"bk-root\">\n",
       "    <div class=\"bk-plotdiv\" id=\"967dadae-51db-4013-bfc9-f5e1377b59ad\"></div>\n",
       "</div>"
      ]
     },
     "metadata": {},
     "output_type": "display_data"
    },
    {
     "data": {
      "application/javascript": [
       "(function(root) {\n",
       "  function embed_document(root) {\n",
       "    \n",
       "  var docs_json = {\"612cb3d6-91c5-4dca-8446-2ae9ed07020b\":{\"roots\":{\"references\":[{\"attributes\":{},\"id\":\"5945eeb9-6a6f-4b8d-aa04-d5dcfd3e7bf5\",\"type\":\"StringEditor\"},{\"attributes\":{\"callback\":null},\"id\":\"004d94b7-61c9-4d3a-9700-0c0fb40afeb4\",\"type\":\"DataRange1d\"},{\"attributes\":{},\"id\":\"89be1570-f19c-430d-82dd-01c9644eb8a6\",\"type\":\"LinearScale\"},{\"attributes\":{\"data_source\":{\"id\":\"3020b79a-e65d-4b34-9bb5-51e6aab4a587\",\"type\":\"ColumnDataSource\"},\"glyph\":{\"id\":\"7552eb93-df04-456f-aaf0-b771d098d775\",\"type\":\"Circle\"},\"hover_glyph\":null,\"muted_glyph\":null,\"nonselection_glyph\":{\"id\":\"99f8ab31-dd89-4687-be4a-4c36e644b62b\",\"type\":\"Circle\"},\"selection_glyph\":null,\"view\":{\"id\":\"86c6f2dc-2f78-482c-b7cd-cf7cf1b6d8f7\",\"type\":\"CDSView\"}},\"id\":\"cb41ad4f-19e6-4abd-9598-9b76ec7f9d80\",\"type\":\"GlyphRenderer\"},{\"attributes\":{\"source\":{\"id\":\"3020b79a-e65d-4b34-9bb5-51e6aab4a587\",\"type\":\"ColumnDataSource\"}},\"id\":\"86c6f2dc-2f78-482c-b7cd-cf7cf1b6d8f7\",\"type\":\"CDSView\"},{\"attributes\":{},\"id\":\"d89cb77b-5841-4cc6-a49d-85975a693ece\",\"type\":\"BasicTickFormatter\"},{\"attributes\":{\"fill_alpha\":{\"value\":0.1},\"fill_color\":{\"value\":\"#1f77b4\"},\"line_alpha\":{\"value\":0.1},\"line_color\":{\"value\":\"#1f77b4\"},\"x\":{\"field\":\"size\"},\"y\":{\"field\":\"effect_size\"}},\"id\":\"99f8ab31-dd89-4687-be4a-4c36e644b62b\",\"type\":\"Circle\"},{\"attributes\":{\"editor\":{\"id\":\"5945eeb9-6a6f-4b8d-aa04-d5dcfd3e7bf5\",\"type\":\"StringEditor\"},\"field\":\"size\",\"formatter\":{\"id\":\"d78b32fd-c0f3-4edb-8850-cbf784111429\",\"type\":\"StringFormatter\"},\"title\":\"Size\"},\"id\":\"71cd6a0e-8b45-4ce3-b662-c7681f289ded\",\"type\":\"TableColumn\"},{\"attributes\":{},\"id\":\"a7bdad31-fead-4652-9061-93e0974a9197\",\"type\":\"BasicTicker\"},{\"attributes\":{\"dimension\":1,\"plot\":{\"id\":\"0292293b-8973-49f1-9e4b-b8e3961aae08\",\"subtype\":\"Figure\",\"type\":\"Plot\"},\"ticker\":{\"id\":\"f3d7dca8-1a1b-451d-ac30-a1d48cd96b6d\",\"type\":\"BasicTicker\"}},\"id\":\"e99445fa-3120-4951-bdee-7f61e614077e\",\"type\":\"Grid\"},{\"attributes\":{\"editor\":{\"id\":\"022bebf8-8d18-4c44-81fb-5e4fa2d3f4f9\",\"type\":\"StringEditor\"},\"field\":\"description\",\"formatter\":{\"id\":\"c80d166e-2017-4803-a9b7-280e13d4adab\",\"type\":\"StringFormatter\"},\"title\":\"Description\"},\"id\":\"afb72c2c-29d7-4ff8-9456-1c61325129b5\",\"type\":\"TableColumn\"},{\"attributes\":{},\"id\":\"fbded12e-1cd6-4499-8eb0-fa20992268d4\",\"type\":\"StringEditor\"},{\"attributes\":{\"active_drag\":\"auto\",\"active_inspect\":\"auto\",\"active_scroll\":\"auto\",\"active_tap\":\"auto\",\"tools\":[{\"id\":\"fb1aef3f-0a0b-4c26-b678-ce752614f318\",\"type\":\"HoverTool\"}]},\"id\":\"75705728-b583-4516-a3f7-de48e0b5daf4\",\"type\":\"Toolbar\"},{\"attributes\":{\"children\":[{\"id\":\"0292293b-8973-49f1-9e4b-b8e3961aae08\",\"subtype\":\"Figure\",\"type\":\"Plot\"},{\"id\":\"6a854e44-bad4-41ad-88af-88c9b92eb747\",\"type\":\"WidgetBox\"}]},\"id\":\"bba3ece2-bdb2-4ea6-885d-189985431dca\",\"type\":\"Row\"},{\"attributes\":{\"columns\":[{\"id\":\"afb72c2c-29d7-4ff8-9456-1c61325129b5\",\"type\":\"TableColumn\"},{\"id\":\"71cd6a0e-8b45-4ce3-b662-c7681f289ded\",\"type\":\"TableColumn\"},{\"id\":\"786cf685-9aa3-458c-8664-52fbcfecc937\",\"type\":\"TableColumn\"}],\"source\":{\"id\":\"3020b79a-e65d-4b34-9bb5-51e6aab4a587\",\"type\":\"ColumnDataSource\"},\"view\":{\"id\":\"e1240722-664a-4a00-be11-bbe890aab594\",\"type\":\"CDSView\"},\"width\":600},\"id\":\"1777138c-cf67-4bde-aeb8-a6da84afb569\",\"type\":\"DataTable\"},{\"attributes\":{\"axis_label\":\"Size\",\"formatter\":{\"id\":\"d89cb77b-5841-4cc6-a49d-85975a693ece\",\"type\":\"BasicTickFormatter\"},\"plot\":{\"id\":\"0292293b-8973-49f1-9e4b-b8e3961aae08\",\"subtype\":\"Figure\",\"type\":\"Plot\"},\"ticker\":{\"id\":\"a7bdad31-fead-4652-9061-93e0974a9197\",\"type\":\"BasicTicker\"}},\"id\":\"53db9298-f1e3-4ffa-896c-f0c071053ab4\",\"type\":\"LinearAxis\"},{\"attributes\":{\"plot\":{\"id\":\"0292293b-8973-49f1-9e4b-b8e3961aae08\",\"subtype\":\"Figure\",\"type\":\"Plot\"},\"ticker\":{\"id\":\"a7bdad31-fead-4652-9061-93e0974a9197\",\"type\":\"BasicTicker\"}},\"id\":\"f4191ebd-1724-4748-97e1-927fb88f8cdc\",\"type\":\"Grid\"},{\"attributes\":{},\"id\":\"dc1c7cad-fa8d-4969-9944-c0df345ecfa4\",\"type\":\"StringFormatter\"},{\"attributes\":{},\"id\":\"f3d7dca8-1a1b-451d-ac30-a1d48cd96b6d\",\"type\":\"BasicTicker\"},{\"attributes\":{},\"id\":\"022bebf8-8d18-4c44-81fb-5e4fa2d3f4f9\",\"type\":\"StringEditor\"},{\"attributes\":{},\"id\":\"66a42e95-bbfb-45de-88f2-5b1835062794\",\"type\":\"BasicTickFormatter\"},{\"attributes\":{\"callback\":null,\"tooltips\":[[\"desc\",\"@description\"],[\"size\",\"@size\"],[\"effect_size\",\"@effect_size\"]]},\"id\":\"fb1aef3f-0a0b-4c26-b678-ce752614f318\",\"type\":\"HoverTool\"},{\"attributes\":{\"children\":[{\"id\":\"1777138c-cf67-4bde-aeb8-a6da84afb569\",\"type\":\"DataTable\"}],\"height\":400,\"width\":600},\"id\":\"6a854e44-bad4-41ad-88af-88c9b92eb747\",\"type\":\"WidgetBox\"},{\"attributes\":{\"editor\":{\"id\":\"fbded12e-1cd6-4499-8eb0-fa20992268d4\",\"type\":\"StringEditor\"},\"field\":\"effect_size\",\"formatter\":{\"id\":\"dc1c7cad-fa8d-4969-9944-c0df345ecfa4\",\"type\":\"StringFormatter\"},\"title\":\"Effect Size\"},\"id\":\"786cf685-9aa3-458c-8664-52fbcfecc937\",\"type\":\"TableColumn\"},{\"attributes\":{\"source\":{\"id\":\"3020b79a-e65d-4b34-9bb5-51e6aab4a587\",\"type\":\"ColumnDataSource\"}},\"id\":\"e1240722-664a-4a00-be11-bbe890aab594\",\"type\":\"CDSView\"},{\"attributes\":{\"axis_label\":\"Effect Size\",\"formatter\":{\"id\":\"66a42e95-bbfb-45de-88f2-5b1835062794\",\"type\":\"BasicTickFormatter\"},\"plot\":{\"id\":\"0292293b-8973-49f1-9e4b-b8e3961aae08\",\"subtype\":\"Figure\",\"type\":\"Plot\"},\"ticker\":{\"id\":\"f3d7dca8-1a1b-451d-ac30-a1d48cd96b6d\",\"type\":\"BasicTicker\"}},\"id\":\"57ca2740-a4d5-4c90-82a2-abf681b176fc\",\"type\":\"LinearAxis\"},{\"attributes\":{\"fill_color\":{\"value\":\"#1f77b4\"},\"line_color\":{\"value\":\"#1f77b4\"},\"x\":{\"field\":\"size\"},\"y\":{\"field\":\"effect_size\"}},\"id\":\"7552eb93-df04-456f-aaf0-b771d098d775\",\"type\":\"Circle\"},{\"attributes\":{},\"id\":\"d78b32fd-c0f3-4edb-8850-cbf784111429\",\"type\":\"StringFormatter\"},{\"attributes\":{},\"id\":\"c80d166e-2017-4803-a9b7-280e13d4adab\",\"type\":\"StringFormatter\"},{\"attributes\":{\"callback\":null},\"id\":\"25368ed9-3722-4d65-b922-915e4f9e2b15\",\"type\":\"DataRange1d\"},{\"attributes\":{\"below\":[{\"id\":\"53db9298-f1e3-4ffa-896c-f0c071053ab4\",\"type\":\"LinearAxis\"}],\"left\":[{\"id\":\"57ca2740-a4d5-4c90-82a2-abf681b176fc\",\"type\":\"LinearAxis\"}],\"plot_height\":400,\"plot_width\":400,\"renderers\":[{\"id\":\"53db9298-f1e3-4ffa-896c-f0c071053ab4\",\"type\":\"LinearAxis\"},{\"id\":\"f4191ebd-1724-4748-97e1-927fb88f8cdc\",\"type\":\"Grid\"},{\"id\":\"57ca2740-a4d5-4c90-82a2-abf681b176fc\",\"type\":\"LinearAxis\"},{\"id\":\"e99445fa-3120-4951-bdee-7f61e614077e\",\"type\":\"Grid\"},{\"id\":\"cb41ad4f-19e6-4abd-9598-9b76ec7f9d80\",\"type\":\"GlyphRenderer\"}],\"title\":null,\"toolbar\":{\"id\":\"75705728-b583-4516-a3f7-de48e0b5daf4\",\"type\":\"Toolbar\"},\"x_range\":{\"id\":\"004d94b7-61c9-4d3a-9700-0c0fb40afeb4\",\"type\":\"DataRange1d\"},\"x_scale\":{\"id\":\"9dfb6da8-be40-4dfe-b9d4-d391879f975a\",\"type\":\"LinearScale\"},\"y_range\":{\"id\":\"25368ed9-3722-4d65-b922-915e4f9e2b15\",\"type\":\"DataRange1d\"},\"y_scale\":{\"id\":\"89be1570-f19c-430d-82dd-01c9644eb8a6\",\"type\":\"LinearScale\"}},\"id\":\"0292293b-8973-49f1-9e4b-b8e3961aae08\",\"subtype\":\"Figure\",\"type\":\"Plot\"},{\"attributes\":{},\"id\":\"9dfb6da8-be40-4dfe-b9d4-d391879f975a\",\"type\":\"LinearScale\"},{\"attributes\":{\"callback\":null,\"column_names\":[\"size\",\"description\",\"effect_size\"],\"data\":{\"description\":[\"Sex:Male  \",\"Martial Status:Married-civ-spouse Married-AF-spouse  \",\"Relationship:Husband Wife  \",\"Occupation:Exec-managerial Prof-specialty  \",\"Education:Doctorate Masters Prof-school Bachelors  \",\"Education-Num:13 14 15 16  \",\"Age:47 50 54 82  \",\"Workclass:Self-emp-inc  \",\"Country:Holand-Netherlands Columbia Dominican-Republic Ecuador China Cuba Cambodia Canada El-Salvador Greece England Haiti Germany France Guatemala Hungary Hong Italy Ireland Yugoslavia  \",\"Capital Loss:653 1258 1380 1411 1485 1539 1564 1579 1590 1628 1648 1651 1668 1669 1672 1726 1735 1740 1741 1755 1762 1816 1825 1844 1848 1876 1887 1902 1944 1974 1980 2001 2002 2042 2051 2057 2080 2129 2149 2179 2205 2206 2231 2258 2267 2339 2352 2377 2457 2467 2603 2754 3683 3770 3900 4356  \",\"Capital Gain:1086 1173 2062 2290 2653 2936 2964 2993 3103 3137 3273 3411 3432 3456 3464 3471 3781 3818 3908 3942 4064 4101 4386 4416 4508 4650 4687 4865 4931 4934 5013 5455 5721 6360 6497 6723 6767 6849 7443 7978 10566 22040 34095 41310  \",\"Hours per week:49 56 57 59 61 73 74 82 84 89 90 97 98 99  \"],\"effect_size\":[0.3548679184917487,0.7453969966200432,0.740455037779945,0.40669824644701236,0.4320093252199581,0.4320093252199581,0.32419224333947316,0.34101346291843787,0.7955699392607672,0.5470687906504291,0.584257973219593,0.4063243969438798],\"size\":[20380,14086,13869,8030,7588,7588,1659,1074,1051,984,630,304]}},\"id\":\"3020b79a-e65d-4b34-9bb5-51e6aab4a587\",\"type\":\"ColumnDataSource\"}],\"root_ids\":[\"bba3ece2-bdb2-4ea6-885d-189985431dca\"]},\"title\":\"Bokeh Application\",\"version\":\"0.12.13\"}};\n",
       "  var render_items = [{\"docid\":\"612cb3d6-91c5-4dca-8446-2ae9ed07020b\",\"elementid\":\"967dadae-51db-4013-bfc9-f5e1377b59ad\",\"modelid\":\"bba3ece2-bdb2-4ea6-885d-189985431dca\",\"notebook_comms_target\":\"451ef7ad-8013-45da-9540-8031da086e65\"}];\n",
       "  root.Bokeh.embed.embed_items_notebook(docs_json, render_items);\n",
       "\n",
       "  }\n",
       "  if (root.Bokeh !== undefined) {\n",
       "    embed_document(root);\n",
       "  } else {\n",
       "    var attempts = 0;\n",
       "    var timer = setInterval(function(root) {\n",
       "      if (root.Bokeh !== undefined) {\n",
       "        embed_document(root);\n",
       "        clearInterval(timer);\n",
       "      }\n",
       "      attempts++;\n",
       "      if (attempts > 100) {\n",
       "        console.log(\"Bokeh: ERROR: Unable to run BokehJS code because BokehJS library is missing\")\n",
       "        clearInterval(timer);\n",
       "      }\n",
       "    }, 10, root)\n",
       "  }\n",
       "})(window);"
      ],
      "application/vnd.bokehjs_exec.v0+json": ""
     },
     "metadata": {
      "application/vnd.bokehjs_exec.v0+json": {
       "id": "bba3ece2-bdb2-4ea6-885d-189985431dca"
      }
     },
     "output_type": "display_data"
    },
    {
     "data": {
      "application/vnd.jupyter.widget-view+json": {
       "model_id": "84327eba25854e4aba967fa1fb78bb1a",
       "version_major": 2,
       "version_minor": 0
      },
      "text/html": [
       "<p>Failed to display Jupyter Widget of type <code>interactive</code>.</p>\n",
       "<p>\n",
       "  If you're reading this message in the Jupyter Notebook or JupyterLab Notebook, it may mean\n",
       "  that the widgets JavaScript is still loading. If this message persists, it\n",
       "  likely means that the widgets JavaScript library is either not installed or\n",
       "  not enabled. See the <a href=\"https://ipywidgets.readthedocs.io/en/stable/user_install.html\">Jupyter\n",
       "  Widgets Documentation</a> for setup instructions.\n",
       "</p>\n",
       "<p>\n",
       "  If you're reading this message in another frontend (for example, a static\n",
       "  rendering on GitHub or <a href=\"https://nbviewer.jupyter.org/\">NBViewer</a>),\n",
       "  it may mean that your frontend doesn't currently support widgets.\n",
       "</p>\n"
      ],
      "text/plain": [
       "interactive(children=(IntSlider(value=10, description='k', max=30, min=1), FloatSlider(value=0.3, description='min_eff_size', max=1.0, step=0.05), Output()), _dom_classes=('widget-interact',))"
      ]
     },
     "metadata": {},
     "output_type": "display_data"
    }
   ],
   "source": [
    "slices, uninteresting = list(), list()\n",
    "with open('slices.p','rb') as handle:\n",
    "    slices = pickle.load(handle)\n",
    "with open('uninteresting.p','rb') as handle:\n",
    "    uninteresting = pickle.load(handle)  \n",
    "\n",
    "def get_top_k_slices(candidates, min_effect_size):\n",
    "    description_ = list()\n",
    "    size_ = list()\n",
    "    effect_size_ = list()\n",
    "    for s in candidates:\n",
    "        if s.effect_size < min_effect_size:\n",
    "            continue\n",
    "            \n",
    "        description = ''\n",
    "        for k, v in list(s.filters.items()):\n",
    "            values = ''\n",
    "            if k in encoders:\n",
    "                le = encoders[k]\n",
    "                for v_ in v:\n",
    "                    values += '%s '%(le.inverse_transform(v_)[0])\n",
    "            else:\n",
    "                for v_ in sorted(v, key=lambda x: x[0]):\n",
    "                    if len(v_) > 1:\n",
    "                        values += '%s ~ %s'%(v_[0], v_[1])\n",
    "                    else:\n",
    "                        values += '%s '%(v_[0])\n",
    "            description += '%s:%s '%(k, values)\n",
    "        description_.append(description)\n",
    "        size_.append(s.size)\n",
    "        effect_size_.append(s.effect_size)\n",
    "    return description_, size_, effect_size_\n",
    "\n",
    "# load interesting slices\n",
    "description_, size_, effect_size_ = get_top_k_slices(slices, 0)\n",
    "    \n",
    "# load uninteresting slices (candidates)\n",
    "description_c, size_c, effect_size_c = get_top_k_slices(uninteresting, 0)\n",
    "    \n",
    "data = dict(\n",
    "        description=description_,\n",
    "        size=size_,\n",
    "        effect_size=effect_size_,\n",
    "    )\n",
    "source = ColumnDataSource(data)\n",
    "\n",
    "# scatter plot\n",
    "hover = HoverTool(tooltips=[\n",
    "    (\"desc\", \"@description\"),\n",
    "    (\"size\", \"@size\"),\n",
    "    (\"effect_size\", \"@effect_size\"),\n",
    "])\n",
    "TOOLS = [hover]\n",
    "p = figure(tools=TOOLS, plot_width=400, plot_height=400, \n",
    "           y_axis_label='Effect Size', x_axis_label='Size', title=None)\n",
    "r = p.circle('size', 'effect_size', source=source)\n",
    "#show(p, notebook_handle=True)\n",
    "\n",
    "# data table\n",
    "columns = [\n",
    "        TableColumn(field=\"description\", title=\"Description\"),\n",
    "        TableColumn(field=\"size\", title=\"Size\"),\n",
    "        TableColumn(field=\"effect_size\", title=\"Effect Size\"),\n",
    "    ]\n",
    "t = DataTable(source=r.data_source, columns=columns, width=600, height=400)\n",
    "\n",
    "show(row(p, t), notebook_handle=True)\n",
    "\n",
    "def update(k=10, min_eff_size=0.3):\n",
    "    desc_, size_, effect_size_ = get_top_k_slices(slices+uninteresting, min_eff_size)\n",
    "    #desc_a, size_a, effect_size_a = get_top_k_slices(slices, min_eff_size)\n",
    "    #desc_b, size_b, effect_size_b = get_top_k_slices(uninteresting, min_eff_size)\n",
    "    #desc_ = desc_a + desc_b\n",
    "    #size_ = size_a + size_b\n",
    "    #effect_size_ = effect_size_a + effect_size_b\n",
    "    idx = sorted(range(len(size_)), key=lambda x: size_[x], reverse=True)\n",
    "    r.data_source.data['description'] = np.array(desc_)[idx[:k]]\n",
    "    r.data_source.data['size'] = np.array(size_)[idx[:k]]\n",
    "    r.data_source.data['effect_size'] = np.array(effect_size_)[idx[:k]]\n",
    "    push_notebook()\n",
    "    \n",
    "w = interactive(update, k=(1,30), min_eff_size=(0, 1, 0.05))\n",
    "display(w)"
   ]
  },
  {
   "cell_type": "markdown",
   "metadata": {},
   "source": [
    "## Preliminary Results\n",
    "Evaluate different baseline techniques as well as SliceFinder to see if they yield large problmatic slices."
   ]
  },
  {
   "cell_type": "code",
   "execution_count": 46,
   "metadata": {},
   "outputs": [],
   "source": [
    "import copy\n",
    "from sklearn.decomposition import PCA\n",
    "from sklearn.cluster import KMeans\n",
    "from risk_control import effect_size\n",
    "from decision_tree import DecisionTree\n",
    "\n",
    "min_eff_size = 0.3\n",
    "\n",
    "sf = SliceFinder(lr, (X, y))\n",
    "sf_recs = [s for s in slices+uninteresting if s.effect_size >= min_eff_size]\n",
    "sf_recs = sorted(sf_recs, key=lambda x: x.size, reverse=True)"
   ]
  },
  {
   "cell_type": "code",
   "execution_count": null,
   "metadata": {},
   "outputs": [],
   "source": [
    "scaler = StandardScaler()\n",
    "numeric_cols = [\"Capital Gain\", \"Age\", \"fnlwgt\", \"Education-Num\", \"Capital Loss\"]\n",
    "X_ = copy.deepcopy(X)\n",
    "X_[numeric_cols] = scaler.fit_transform(X_[numeric_cols])\n",
    "y_pred = lr.predict(X)\n",
    "X_mis, y_mis = X_[y != y_pred], y[y != y_pred]\n",
    "reduced_data_train = PCA(n_components=2).fit_transform(X_mis)\n",
    "reduced_data_test = PCA(n_components=2).fit_transform(X_)"
   ]
  },
  {
   "cell_type": "code",
   "execution_count": null,
   "metadata": {},
   "outputs": [],
   "source": [
    "decisions = []\n",
    "for x_, y_ in zip(X.as_matrix(), y.as_matrix()):\n",
    "    y_p = lr.predict([x_])\n",
    "    if y_p == y_:\n",
    "        decisions.append(0)\n",
    "    else:\n",
    "        decisions.append(1)\n",
    "dt = DecisionTree((X, y), lr)\n",
    "dt = dt.fit(max_depth=10, min_size=100)"
   ]
  },
  {
   "cell_type": "code",
   "execution_count": 47,
   "metadata": {},
   "outputs": [
    {
     "name": "stderr",
     "output_type": "stream",
     "text": [
      "/Users/yeounoh/git/slicefinder/risk_control.py:26: RuntimeWarning: invalid value encountered in double_scalars\n",
      "  sample_b_mean = (mu*n - np.sum(sample_a))/(n-len(sample_a))\n"
     ]
    }
   ],
   "source": [
    "sf_k, sf_avg_sizes, sf_avg_eff_sizes = list(), list(), list()\n",
    "cluster_k, cluster_avg_sizes, cluster_avg_eff_sizes = list(), list(), list()\n",
    "tree_k, tree_avg_sizes, tree_avg_eff_sizes = list(), list(), list()\n",
    "\n",
    "for k in range(1, 11):\n",
    "    sf_recs_ = sf_recs[:k]\n",
    "    if len(sf_recs_) == k:\n",
    "        sf_k.append(k)\n",
    "        sf_avg_sizes.append(np.mean([s.size for s in sf_recs_]))\n",
    "        sf_avg_eff_sizes.append(np.mean([s.effect_size for s in sf_recs_]))\n",
    "    \n",
    "    kmeans = KMeans(init='k-means++', n_clusters=k)\n",
    "    kmeans.fit(reduced_data_train) # train with mis-classified data\n",
    "    y_predicted = kmeans.predict(reduced_data_test) # classify all data\n",
    "    sizes, eff_sizes = list(), list()\n",
    "    for cluster_id in np.unique(kmeans.labels_):\n",
    "        X_cluster = X[np.array(y_predicted) == cluster_id]\n",
    "        y_cluster = y[np.array(y_predicted) == cluster_id]\n",
    "        sizes.append(len(X_cluster))\n",
    "        eff_sizes.append(effect_size(sf.evaluate_model((X_cluster, y_cluster)), reference))\n",
    "    cluster_k.append(k)\n",
    "    cluster_avg_eff_sizes.append(np.mean(eff_sizes))\n",
    "    cluster_avg_sizes.append(np.mean(sizes))\n",
    "    \n",
    "    dt_recs = dt.recommend_slices(k=k, min_effect_size=min_eff_size)\n",
    "    if len(dt_recs) == k:\n",
    "        tree_k.append(k)\n",
    "        tree_avg_sizes.append(np.mean([s.size for s in dt_recs]))\n",
    "        tree_avg_eff_sizes.append(np.mean([s.eff_size for s in dt_recs]))"
   ]
  },
  {
   "cell_type": "code",
   "execution_count": 96,
   "metadata": {},
   "outputs": [
    {
     "data": {
      "image/png": "[encoded data removed]",
      "text/plain": [
       "<matplotlib.figure.Figure at 0x110f38048>"
      ]
     },
     "metadata": {},
     "output_type": "display_data"
    },
    {
     "data": {
      "image/png": "[encoded data removed]",
      "text/plain": [
       "<matplotlib.figure.Figure at 0x112ca86d8>"
      ]
     },
     "metadata": {},
     "output_type": "display_data"
    }
   ],
   "source": [
    "pickle.du\n",
    "\n",
    "import matplotlib.pyplot as plt\n",
    "import matplotlib\n",
    "matplotlib.rcParams.update({'font.size': 17})\n",
    "\n",
    "plt.figure(1, figsize=(6,5))\n",
    "ax = plt.subplot(1,1,1)\n",
    "plt.plot(sf_k, sf_avg_sizes, 'o-', \n",
    "         cluster_k, cluster_avg_sizes, 's-',\n",
    "         tree_k, tree_avg_sizes, 'v-', \n",
    "         linewidth=3.0, markersize=10)\n",
    "plt.xlabel('Numb. of Recommendations', fontsize=17)\n",
    "plt.ylabel('Avg. Size', fontsize=17)\n",
    "plt.savefig('size.pdf')\n",
    "plt.figure(2, figsize=(6,5))\n",
    "ax = plt.subplot(1,1,1)\n",
    "plt.plot(sf_k, sf_avg_eff_sizes, 'o-', \n",
    "         cluster_k, cluster_avg_eff_sizes, 's-',\n",
    "         tree_k, tree_avg_eff_sizes, 'v-',\n",
    "         linewidth=3.0, markersize=10)\n",
    "plt.xlabel('Numb. of Recommendations', fontsize=17)\n",
    "plt.ylabel('Avg. Effect Size', fontsize=17)\n",
    "plt.tight_layout()\n",
    "plt.savefig('effsize.pdf')\n",
    "plt.show()\n"
   ]
  },
  {
   "cell_type": "code",
   "execution_count": null,
   "metadata": {},
   "outputs": [],
   "source": []
  }
 ],
 "metadata": {
  "kernelspec": {
   "display_name": "Python 3",
   "language": "python",
   "name": "python3"
  },
  "language_info": {
   "codemirror_mode": {
    "name": "ipython",
    "version": 3
   },
   "file_extension": ".py",
   "mimetype": "text/x-python",
   "name": "python",
   "nbconvert_exporter": "python",
   "pygments_lexer": "ipython3",
   "version": "3.5.2"
  }
 },
 "nbformat": 4,
 "nbformat_minor": 2
}
